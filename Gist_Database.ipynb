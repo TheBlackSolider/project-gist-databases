{
  "nbformat": 4,
  "nbformat_minor": 0,
  "metadata": {
    "colab": {
      "provenance": []
    },
    "kernelspec": {
      "name": "python3",
      "display_name": "Python 3"
    },
    "language_info": {
      "name": "python"
    }
  },
  "cells": [
    {
      "cell_type": "markdown",
      "source": [
        "# Gist Database Project\n",
        "\n",
        "This project interfaces with GitHub's Gist API to fetch, store, and search Gist data. Using Python libraries like `requests` and `sqlite3`, we build a powerful Gist database with flexible search capabilities.\n"
      ],
      "metadata": {
        "id": "TfFYppE1Y7Gf"
      }
    },
    {
      "cell_type": "markdown",
      "source": [
        "## Step 1: Database Initialization\n",
        "\n",
        "We start by setting up a SQLite database and creating the required schema to store Gist information.\n"
      ],
      "metadata": {
        "id": "Iaka73jNRyRN"
      }
    },
    {
      "cell_type": "code",
      "execution_count": 1,
      "metadata": {
        "colab": {
          "base_uri": "https://localhost:8080/"
        },
        "id": "UAUwQVkJRXoI",
        "outputId": "8f565d3d-aa79-4d83-8f28-0be4a05cbebd"
      },
      "outputs": [
        {
          "output_type": "stream",
          "name": "stdout",
          "text": [
            "Requirement already satisfied: requests in /usr/local/lib/python3.10/dist-packages (2.32.3)\n",
            "Requirement already satisfied: charset-normalizer<4,>=2 in /usr/local/lib/python3.10/dist-packages (from requests) (3.3.2)\n",
            "Requirement already satisfied: idna<4,>=2.5 in /usr/local/lib/python3.10/dist-packages (from requests) (3.10)\n",
            "Requirement already satisfied: urllib3<3,>=1.21.1 in /usr/local/lib/python3.10/dist-packages (from requests) (2.2.3)\n",
            "Requirement already satisfied: certifi>=2017.4.17 in /usr/local/lib/python3.10/dist-packages (from requests) (2024.8.30)\n",
            "Database schema created successfully!\n"
          ]
        }
      ],
      "source": [
        "!pip install requests\n",
        "\n",
        "# Import libraries\n",
        "import sqlite3\n",
        "import requests\n",
        "from datetime import datetime\n",
        "import json\n",
        "\n",
        "# Initialize database connection\n",
        "db = sqlite3.connect(\":memory:\")\n",
        "\n",
        "# Function to create the database schema\n",
        "def initialize_db(db_connection):\n",
        "    cursor = db_connection.cursor()\n",
        "    cursor.executescript(\"\"\"\n",
        "    DROP TABLE IF EXISTS gists;\n",
        "\n",
        "    CREATE TABLE gists (\n",
        "        id INTEGER PRIMARY KEY AUTOINCREMENT,\n",
        "        github_id TEXT NOT NULL UNIQUE,\n",
        "        description TEXT,\n",
        "        public INTEGER,\n",
        "        created_at TEXT,\n",
        "        updated_at TEXT,\n",
        "        url TEXT\n",
        "    );\n",
        "    \"\"\")\n",
        "    db_connection.commit()\n",
        "    cursor.close()\n",
        "    print(\"Database schema created successfully!\")\n",
        "\n",
        "# Initialize the database with schema\n",
        "initialize_db(db)\n"
      ]
    },
    {
      "cell_type": "markdown",
      "source": [
        "Step 2: Fetching Gists from GitHub\n"
      ],
      "metadata": {
        "id": "liC-e0X0SYdU"
      }
    },
    {
      "cell_type": "code",
      "source": [
        "# Function to fetch Gists from GitHub for a specific user\n",
        "def fetch_gists(username):\n",
        "    # GitHub API endpoint to fetch user's Gists\n",
        "    url = f\"https://api.github.com/users/{username}/gists\"\n",
        "\n",
        "    try:\n",
        "        # Make the GET request to the API\n",
        "        response = requests.get(url)\n",
        "\n",
        "        # Check if the request was successful\n",
        "        if response.status_code == 200:\n",
        "            # Parse the JSON response\n",
        "            gists = response.json()\n",
        "            print(f\"Successfully fetched {len(gists)} Gists for user: {username}\")\n",
        "            return gists\n",
        "        else:\n",
        "            # Handle cases where the API request fails\n",
        "            print(f\"Failed to fetch Gists for user: {username}\")\n",
        "            print(f\"Status Code: {response.status_code}, Message: {response.text}\")\n",
        "            return []\n",
        "    except requests.RequestException as e:\n",
        "        print(f\"An error occurred while fetching Gists: {str(e)}\")\n",
        "        return []\n",
        "\n",
        "sample_user = 'matiascaputti'\n",
        "gists = fetch_gists(sample_user)\n",
        "\n",
        "# Display the first Gist (if available) to verify output\n",
        "if gists:\n",
        "    print(json.dumps(gists[0], indent=4))\n"
      ],
      "metadata": {
        "colab": {
          "base_uri": "https://localhost:8080/"
        },
        "id": "SM8bgzW4SMGT",
        "outputId": "4a4c6db3-3a0c-4e9c-f3af-fb79877be2ba"
      },
      "execution_count": 2,
      "outputs": [
        {
          "output_type": "stream",
          "name": "stdout",
          "text": [
            "Successfully fetched 6 Gists for user: matiascaputti\n",
            "{\n",
            "    \"url\": \"https://api.github.com/gists/9e58a3ca9cc0a4ec44dc1b0a5a45b8f7\",\n",
            "    \"forks_url\": \"https://api.github.com/gists/9e58a3ca9cc0a4ec44dc1b0a5a45b8f7/forks\",\n",
            "    \"commits_url\": \"https://api.github.com/gists/9e58a3ca9cc0a4ec44dc1b0a5a45b8f7/commits\",\n",
            "    \"id\": \"9e58a3ca9cc0a4ec44dc1b0a5a45b8f7\",\n",
            "    \"node_id\": \"G_kwDOAGvPOdoAIDllNThhM2NhOWNjMGE0ZWM0NGRjMWIwYTVhNDViOGY3\",\n",
            "    \"git_pull_url\": \"https://gist.github.com/9e58a3ca9cc0a4ec44dc1b0a5a45b8f7.git\",\n",
            "    \"git_push_url\": \"https://gist.github.com/9e58a3ca9cc0a4ec44dc1b0a5a45b8f7.git\",\n",
            "    \"html_url\": \"https://gist.github.com/matiascaputti/9e58a3ca9cc0a4ec44dc1b0a5a45b8f7\",\n",
            "    \"files\": {\n",
            "        \"dom3d.js\": {\n",
            "            \"filename\": \"dom3d.js\",\n",
            "            \"type\": \"text/javascript\",\n",
            "            \"language\": \"JavaScript\",\n",
            "            \"raw_url\": \"https://gist.githubusercontent.com/matiascaputti/9e58a3ca9cc0a4ec44dc1b0a5a45b8f7/raw/bf7cab8bd643a428fb4fcd73f47bd4b8e1b75c6b/dom3d.js\",\n",
            "            \"size\": 5057\n",
            "        }\n",
            "    },\n",
            "    \"public\": true,\n",
            "    \"created_at\": \"2024-08-06T20:45:52Z\",\n",
            "    \"updated_at\": \"2024-08-06T20:45:52Z\",\n",
            "    \"description\": \"3D DOM viewer, copy-paste this into your console to visualise the DOM topographically.\",\n",
            "    \"comments\": 0,\n",
            "    \"user\": null,\n",
            "    \"comments_url\": \"https://api.github.com/gists/9e58a3ca9cc0a4ec44dc1b0a5a45b8f7/comments\",\n",
            "    \"owner\": {\n",
            "        \"login\": \"matiascaputti\",\n",
            "        \"id\": 7065401,\n",
            "        \"node_id\": \"MDQ6VXNlcjcwNjU0MDE=\",\n",
            "        \"avatar_url\": \"https://avatars.githubusercontent.com/u/7065401?v=4\",\n",
            "        \"gravatar_id\": \"\",\n",
            "        \"url\": \"https://api.github.com/users/matiascaputti\",\n",
            "        \"html_url\": \"https://github.com/matiascaputti\",\n",
            "        \"followers_url\": \"https://api.github.com/users/matiascaputti/followers\",\n",
            "        \"following_url\": \"https://api.github.com/users/matiascaputti/following{/other_user}\",\n",
            "        \"gists_url\": \"https://api.github.com/users/matiascaputti/gists{/gist_id}\",\n",
            "        \"starred_url\": \"https://api.github.com/users/matiascaputti/starred{/owner}{/repo}\",\n",
            "        \"subscriptions_url\": \"https://api.github.com/users/matiascaputti/subscriptions\",\n",
            "        \"organizations_url\": \"https://api.github.com/users/matiascaputti/orgs\",\n",
            "        \"repos_url\": \"https://api.github.com/users/matiascaputti/repos\",\n",
            "        \"events_url\": \"https://api.github.com/users/matiascaputti/events{/privacy}\",\n",
            "        \"received_events_url\": \"https://api.github.com/users/matiascaputti/received_events\",\n",
            "        \"type\": \"User\",\n",
            "        \"site_admin\": false\n",
            "    },\n",
            "    \"truncated\": false\n",
            "}\n"
          ]
        }
      ]
    },
    {
      "cell_type": "markdown",
      "source": [
        "Step 3: Importing Gists into the Database\n"
      ],
      "metadata": {
        "id": "ms9Lpk0mTKVk"
      }
    },
    {
      "cell_type": "code",
      "source": [
        "def import_gists_to_database(db_connection, username, commit=True):\n",
        "    # Fetch Gists for the provided username\n",
        "    gists = fetch_gists(username)\n",
        "\n",
        "    if not gists:\n",
        "        print(f\"No Gists found for user: {username}\")\n",
        "        return\n",
        "\n",
        "    cursor = db_connection.cursor()\n",
        "\n",
        "    # Iterate over each Gist and insert relevant data into the database\n",
        "    for gist in gists:\n",
        "        # Extract required details\n",
        "        github_id = gist['id']\n",
        "        description = gist['description'] if gist['description'] else \"No description\"\n",
        "        public = 1 if gist['public'] else 0\n",
        "        created_at = gist['created_at']\n",
        "        updated_at = gist['updated_at']\n",
        "        url = gist['html_url']\n",
        "\n",
        "        # Insert or replace the Gist details into the database\n",
        "        cursor.execute(\"\"\"\n",
        "            INSERT OR REPLACE INTO gists (github_id, description, public, created_at, updated_at, url)\n",
        "            VALUES (?, ?, ?, ?, ?, ?)\n",
        "        \"\"\", (github_id, description, public, created_at, updated_at, url))\n",
        "\n",
        "    # Commit changes if the commit flag is True\n",
        "    if commit:\n",
        "        db_connection.commit()\n",
        "        print(f\"Successfully imported {len(gists)} Gists for user: {username} into the database.\")\n",
        "\n",
        "    cursor.close()"
      ],
      "metadata": {
        "id": "da90gRPlS_1X"
      },
      "execution_count": 3,
      "outputs": []
    },
    {
      "cell_type": "code",
      "source": [
        "import_gists_to_database(db, sample_user)\n",
        "\n",
        "# Check that data has been inserted correctly\n",
        "def display_all_gists(db_connection):\n",
        "    cursor = db_connection.cursor()\n",
        "    cursor.execute(\"SELECT * FROM gists\")\n",
        "    rows = cursor.fetchall()\n",
        "    cursor.close()\n",
        "    for row in rows:\n",
        "        print(row)\n",
        "\n",
        "display_all_gists(db)"
      ],
      "metadata": {
        "colab": {
          "base_uri": "https://localhost:8080/"
        },
        "id": "spahIbX_TqDN",
        "outputId": "f8e952a5-f0f7-4b99-f17f-33c5aee47934"
      },
      "execution_count": 4,
      "outputs": [
        {
          "output_type": "stream",
          "name": "stdout",
          "text": [
            "Successfully fetched 6 Gists for user: matiascaputti\n",
            "Successfully imported 6 Gists for user: matiascaputti into the database.\n",
            "(1, '9e58a3ca9cc0a4ec44dc1b0a5a45b8f7', '3D DOM viewer, copy-paste this into your console to visualise the DOM topographically.', 1, '2024-08-06T20:45:52Z', '2024-08-06T20:45:52Z', 'https://gist.github.com/matiascaputti/9e58a3ca9cc0a4ec44dc1b0a5a45b8f7')\n",
            "(2, '72d6110ca2bb4a8058b3fb6b73b21503', 'No description', 1, '2018-11-19T20:08:03Z', '2018-11-19T20:08:04Z', 'https://gist.github.com/matiascaputti/72d6110ca2bb4a8058b3fb6b73b21503')\n",
            "(3, '8d774e49fa66b1991056161ca26fc3ef', 'No description', 1, '2018-11-19T20:07:12Z', '2018-11-19T20:07:12Z', 'https://gist.github.com/matiascaputti/8d774e49fa66b1991056161ca26fc3ef')\n",
            "(4, '0922f7ffa84d56ac602798fef2fa0f16', 'Fix \"Permission denied (publickey)\" error when pushing with Git', 1, '2018-09-17T02:21:28Z', '2018-09-17T02:21:29Z', 'https://gist.github.com/matiascaputti/0922f7ffa84d56ac602798fef2fa0f16')\n",
            "(5, 'a426b244ea30adf3ea7150097a25ac1a', 'No description', 1, '2018-02-11T12:36:58Z', '2018-02-11T12:36:59Z', 'https://gist.github.com/matiascaputti/a426b244ea30adf3ea7150097a25ac1a')\n",
            "(6, 'a9efe6ff42d13779e97f8fce2b23b315', 'No description', 1, '2016-07-18T19:52:29Z', '2016-07-18T19:52:29Z', 'https://gist.github.com/matiascaputti/a9efe6ff42d13779e97f8fce2b23b315')\n"
          ]
        }
      ]
    },
    {
      "cell_type": "markdown",
      "source": [
        "Step 4: Implementing Search Functionality\n"
      ],
      "metadata": {
        "id": "3AcfW9BxT55p"
      }
    },
    {
      "cell_type": "code",
      "source": [
        "def search_gists(db_connection, github_id=None, created_at=None):\n",
        "    cursor = db_connection.cursor()\n",
        "\n",
        "    # Base query\n",
        "    query = \"SELECT * FROM gists WHERE 1=1\"\n",
        "    params = {}\n",
        "\n",
        "    # Append filters based on optional arguments\n",
        "    if github_id:\n",
        "        query += \" AND github_id = :github_id\"\n",
        "        params['github_id'] = github_id\n",
        "\n",
        "    if created_at:\n",
        "        query += \" AND datetime(created_at) = datetime(:created_at)\"\n",
        "        params['created_at'] = created_at\n",
        "\n",
        "    # Execute the constructed query\n",
        "    cursor.execute(query, params)\n",
        "    rows = cursor.fetchall()\n",
        "    cursor.close()\n",
        "\n",
        "    # Return a list of Gist objects (simple dictionary here for representation)\n",
        "    return [\n",
        "        {\n",
        "            'id': row[0],\n",
        "            'github_id': row[1],\n",
        "            'description': row[2],\n",
        "            'public': row[3],\n",
        "            'created_at': row[4],\n",
        "            'updated_at': row[5],\n",
        "            'url': row[6]\n",
        "        }\n",
        "        for row in rows\n",
        "    ]"
      ],
      "metadata": {
        "id": "M8hDGDuFTxx4"
      },
      "execution_count": 5,
      "outputs": []
    },
    {
      "cell_type": "code",
      "source": [
        "all_gists = search_gists(db)\n",
        "print(f\"All Gists: {all_gists}\")\n",
        "\n",
        "if all_gists:\n",
        "    sample_github_id = all_gists[0]['github_id']\n",
        "    print(f\"\\nSearching for Gist with GitHub ID: {sample_github_id}\")\n",
        "    gist_by_id = search_gists(db, github_id=sample_github_id)\n",
        "    print(gist_by_id)\n",
        "\n",
        "if all_gists:\n",
        "    sample_created_at = all_gists[0]['created_at']\n",
        "    print(f\"\\nSearching for Gist created at: {sample_created_at}\")\n",
        "    gists_by_date = search_gists(db, created_at=sample_created_at)\n",
        "    print(gists_by_date)"
      ],
      "metadata": {
        "colab": {
          "base_uri": "https://localhost:8080/"
        },
        "id": "he3L870NUPlO",
        "outputId": "b365fd61-c6c1-41b1-f8f1-10ef460ffd84"
      },
      "execution_count": 6,
      "outputs": [
        {
          "output_type": "stream",
          "name": "stdout",
          "text": [
            "All Gists: [{'id': 1, 'github_id': '9e58a3ca9cc0a4ec44dc1b0a5a45b8f7', 'description': '3D DOM viewer, copy-paste this into your console to visualise the DOM topographically.', 'public': 1, 'created_at': '2024-08-06T20:45:52Z', 'updated_at': '2024-08-06T20:45:52Z', 'url': 'https://gist.github.com/matiascaputti/9e58a3ca9cc0a4ec44dc1b0a5a45b8f7'}, {'id': 2, 'github_id': '72d6110ca2bb4a8058b3fb6b73b21503', 'description': 'No description', 'public': 1, 'created_at': '2018-11-19T20:08:03Z', 'updated_at': '2018-11-19T20:08:04Z', 'url': 'https://gist.github.com/matiascaputti/72d6110ca2bb4a8058b3fb6b73b21503'}, {'id': 3, 'github_id': '8d774e49fa66b1991056161ca26fc3ef', 'description': 'No description', 'public': 1, 'created_at': '2018-11-19T20:07:12Z', 'updated_at': '2018-11-19T20:07:12Z', 'url': 'https://gist.github.com/matiascaputti/8d774e49fa66b1991056161ca26fc3ef'}, {'id': 4, 'github_id': '0922f7ffa84d56ac602798fef2fa0f16', 'description': 'Fix \"Permission denied (publickey)\" error when pushing with Git', 'public': 1, 'created_at': '2018-09-17T02:21:28Z', 'updated_at': '2018-09-17T02:21:29Z', 'url': 'https://gist.github.com/matiascaputti/0922f7ffa84d56ac602798fef2fa0f16'}, {'id': 5, 'github_id': 'a426b244ea30adf3ea7150097a25ac1a', 'description': 'No description', 'public': 1, 'created_at': '2018-02-11T12:36:58Z', 'updated_at': '2018-02-11T12:36:59Z', 'url': 'https://gist.github.com/matiascaputti/a426b244ea30adf3ea7150097a25ac1a'}, {'id': 6, 'github_id': 'a9efe6ff42d13779e97f8fce2b23b315', 'description': 'No description', 'public': 1, 'created_at': '2016-07-18T19:52:29Z', 'updated_at': '2016-07-18T19:52:29Z', 'url': 'https://gist.github.com/matiascaputti/a9efe6ff42d13779e97f8fce2b23b315'}]\n",
            "\n",
            "Searching for Gist with GitHub ID: 9e58a3ca9cc0a4ec44dc1b0a5a45b8f7\n",
            "[{'id': 1, 'github_id': '9e58a3ca9cc0a4ec44dc1b0a5a45b8f7', 'description': '3D DOM viewer, copy-paste this into your console to visualise the DOM topographically.', 'public': 1, 'created_at': '2024-08-06T20:45:52Z', 'updated_at': '2024-08-06T20:45:52Z', 'url': 'https://gist.github.com/matiascaputti/9e58a3ca9cc0a4ec44dc1b0a5a45b8f7'}]\n",
            "\n",
            "Searching for Gist created at: 2024-08-06T20:45:52Z\n",
            "[{'id': 1, 'github_id': '9e58a3ca9cc0a4ec44dc1b0a5a45b8f7', 'description': '3D DOM viewer, copy-paste this into your console to visualise the DOM topographically.', 'public': 1, 'created_at': '2024-08-06T20:45:52Z', 'updated_at': '2024-08-06T20:45:52Z', 'url': 'https://gist.github.com/matiascaputti/9e58a3ca9cc0a4ec44dc1b0a5a45b8f7'}]\n"
          ]
        }
      ]
    },
    {
      "cell_type": "markdown",
      "source": [
        "## Step 5: Demonstration of All Functionalities\n",
        "\n",
        "In this section, we demonstrate how to:\n",
        "1. Fetch Gists from GitHub and import them into the database.\n",
        "2. Search Gists with various filters.\n",
        "3. Use date-based filters for more advanced searches.\n"
      ],
      "metadata": {
        "id": "sAPJyHpBUpcB"
      }
    },
    {
      "cell_type": "code",
      "source": [
        "def search_gists(\n",
        "    db_connection,\n",
        "    github_id=None,\n",
        "    created_at=None,\n",
        "    created_at__gt=None,\n",
        "    created_at__gte=None,\n",
        "    created_at__lt=None,\n",
        "    created_at__lte=None,\n",
        "    updated_at__gt=None,\n",
        "    updated_at__gte=None,\n",
        "    updated_at__lt=None,\n",
        "    updated_at__lte=None\n",
        "):\n",
        "    cursor = db_connection.cursor()\n",
        "\n",
        "    # Base query\n",
        "    query = \"SELECT * FROM gists WHERE 1=1\"\n",
        "    params = {}\n",
        "\n",
        "    # Append filters based on optional arguments\n",
        "    if github_id:\n",
        "        query += \" AND github_id = :github_id\"\n",
        "        params['github_id'] = github_id\n",
        "\n",
        "    if created_at:\n",
        "        query += \" AND datetime(created_at) = datetime(:created_at)\"\n",
        "        params['created_at'] = created_at\n",
        "\n",
        "    # Date filters for created_at\n",
        "    if created_at__gt:\n",
        "        query += \" AND datetime(created_at) > datetime(:created_at__gt)\"\n",
        "        params['created_at__gt'] = created_at__gt\n",
        "\n",
        "    if created_at__gte:\n",
        "        query += \" AND datetime(created_at) >= datetime(:created_at__gte)\"\n",
        "        params['created_at__gte'] = created_at__gte\n",
        "\n",
        "    if created_at__lt:\n",
        "        query += \" AND datetime(created_at) < datetime(:created_at__lt)\"\n",
        "        params['created_at__lt'] = created_at__lt\n",
        "\n",
        "    if created_at__lte:\n",
        "        query += \" AND datetime(created_at) <= datetime(:created_at__lte)\"\n",
        "        params['created_at__lte'] = created_at__lte\n",
        "\n",
        "    # Date filters for updated_at\n",
        "    if updated_at__gt:\n",
        "        query += \" AND datetime(updated_at) > datetime(:updated_at__gt)\"\n",
        "        params['updated_at__gt'] = updated_at__gt\n",
        "\n",
        "    if updated_at__gte:\n",
        "        query += \" AND datetime(updated_at) >= datetime(:updated_at__gte)\"\n",
        "        params['updated_at__gte'] = updated_at__gte\n",
        "\n",
        "    if updated_at__lt:\n",
        "        query += \" AND datetime(updated_at) < datetime(:updated_at__lt)\"\n",
        "        params['updated_at__lt'] = updated_at__lt\n",
        "\n",
        "    if updated_at__lte:\n",
        "        query += \" AND datetime(updated_at) <= datetime(:updated_at__lte)\"\n",
        "        params['updated_at__lte'] = updated_at__lte\n",
        "\n",
        "    # Execute the constructed query\n",
        "    cursor.execute(query, params)\n",
        "    rows = cursor.fetchall()\n",
        "    cursor.close()\n",
        "\n",
        "    # Return a list of Gist objects (simple dictionary here for representation)\n",
        "    return [\n",
        "        {\n",
        "            'id': row[0],\n",
        "            'github_id': row[1],\n",
        "            'description': row[2],\n",
        "            'public': row[3],\n",
        "            'created_at': row[4],\n",
        "            'updated_at': row[5],\n",
        "            'url': row[6]\n",
        "        }\n",
        "        for row in rows\n",
        "    ]"
      ],
      "metadata": {
        "id": "QrAnxxyPUVk9"
      },
      "execution_count": 7,
      "outputs": []
    },
    {
      "cell_type": "code",
      "source": [
        "# Test the enhanced search function with date filters\n",
        "from datetime import datetime, timedelta\n",
        "\n",
        "# Fetch all Gists again to use for testing\n",
        "all_gists = search_gists(db)\n",
        "\n",
        "if all_gists:\n",
        "    # Set a sample date range for testing (change these as needed)\n",
        "    some_date = all_gists[0]['created_at']\n",
        "    date_format = \"%Y-%m-%dT%H:%M:%SZ\"\n",
        "\n",
        "    # Convert string to datetime\n",
        "    sample_datetime = datetime.strptime(some_date, date_format)\n",
        "\n",
        "    # Test created_at greater than\n",
        "    print(f\"\\nSearching for Gists created after: {sample_datetime}\")\n",
        "    gists_created_after = search_gists(db, created_at__gt=sample_datetime)\n",
        "    print(gists_created_after)\n",
        "\n",
        "    # Test created_at less than\n",
        "    print(f\"\\nSearching for Gists created before: {sample_datetime}\")\n",
        "    gists_created_before = search_gists(db, created_at__lt=sample_datetime)\n",
        "    print(gists_created_before)\n",
        "\n"
      ],
      "metadata": {
        "colab": {
          "base_uri": "https://localhost:8080/"
        },
        "id": "mQ_Z_O88XLWw",
        "outputId": "915b3427-ae77-4d1a-93ae-876b51babbf9"
      },
      "execution_count": 8,
      "outputs": [
        {
          "output_type": "stream",
          "name": "stdout",
          "text": [
            "\n",
            "Searching for Gists created after: 2024-08-06 20:45:52\n",
            "[]\n",
            "\n",
            "Searching for Gists created before: 2024-08-06 20:45:52\n",
            "[{'id': 2, 'github_id': '72d6110ca2bb4a8058b3fb6b73b21503', 'description': 'No description', 'public': 1, 'created_at': '2018-11-19T20:08:03Z', 'updated_at': '2018-11-19T20:08:04Z', 'url': 'https://gist.github.com/matiascaputti/72d6110ca2bb4a8058b3fb6b73b21503'}, {'id': 3, 'github_id': '8d774e49fa66b1991056161ca26fc3ef', 'description': 'No description', 'public': 1, 'created_at': '2018-11-19T20:07:12Z', 'updated_at': '2018-11-19T20:07:12Z', 'url': 'https://gist.github.com/matiascaputti/8d774e49fa66b1991056161ca26fc3ef'}, {'id': 4, 'github_id': '0922f7ffa84d56ac602798fef2fa0f16', 'description': 'Fix \"Permission denied (publickey)\" error when pushing with Git', 'public': 1, 'created_at': '2018-09-17T02:21:28Z', 'updated_at': '2018-09-17T02:21:29Z', 'url': 'https://gist.github.com/matiascaputti/0922f7ffa84d56ac602798fef2fa0f16'}, {'id': 5, 'github_id': 'a426b244ea30adf3ea7150097a25ac1a', 'description': 'No description', 'public': 1, 'created_at': '2018-02-11T12:36:58Z', 'updated_at': '2018-02-11T12:36:59Z', 'url': 'https://gist.github.com/matiascaputti/a426b244ea30adf3ea7150097a25ac1a'}, {'id': 6, 'github_id': 'a9efe6ff42d13779e97f8fce2b23b315', 'description': 'No description', 'public': 1, 'created_at': '2016-07-18T19:52:29Z', 'updated_at': '2016-07-18T19:52:29Z', 'url': 'https://gist.github.com/matiascaputti/a9efe6ff42d13779e97f8fce2b23b315'}]\n"
          ]
        }
      ]
    },
    {
      "cell_type": "markdown",
      "source": [
        "## Conclusion\n",
        "\n",
        "In this project, we successfully built a database that interfaces with GitHub's Gist API. We demonstrated how to:\n",
        "- Fetch Gists from GitHub.\n",
        "- Store Gists in a SQLite database.\n",
        "- Perform advanced searches on the Gist data.\n",
        "\n",
        "This project showcases the power of combining APIs with databases to build useful and flexible applications.\n"
      ],
      "metadata": {
        "id": "blhG_saJXkr-"
      }
    },
    {
      "cell_type": "code",
      "source": [],
      "metadata": {
        "id": "LT5ntIfBXVSi"
      },
      "execution_count": null,
      "outputs": []
    }
  ]
}